{
 "cells": [
  {
   "cell_type": "code",
   "execution_count": null,
   "id": "c40edc36-f1c4-4c8e-808d-dbc65ae27960",
   "metadata": {},
   "outputs": [],
   "source": []
  }
 ],
 "metadata": {
  "kernelspec": {
   "display_name": "",
   "name": ""
  },
  "language_info": {
   "name": ""
  }
 },
 "nbformat": 4,
 "nbformat_minor": 5
}
