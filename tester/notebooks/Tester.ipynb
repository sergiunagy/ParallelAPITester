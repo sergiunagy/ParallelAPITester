{
 "cells": [
  {
   "cell_type": "code",
   "execution_count": 1,
   "id": "c40edc36-f1c4-4c8e-808d-dbc65ae27960",
   "metadata": {},
   "outputs": [
    {
     "name": "stdout",
     "output_type": "stream",
     "text": [
      "Wee\n"
     ]
    }
   ],
   "source": [
    "print(\"Wee\")"
   ]
  },
  {
   "cell_type": "code",
   "execution_count": 3,
   "id": "c171f4b0",
   "metadata": {},
   "outputs": [],
   "source": [
    "def what(arg1: str):\n",
    "    pass"
   ]
  },
  {
   "cell_type": "code",
   "execution_count": null,
   "id": "05f164f7",
   "metadata": {},
   "outputs": [],
   "source": []
  }
 ],
 "metadata": {
  "kernelspec": {
   "display_name": "base",
   "language": "python",
   "name": "python3"
  },
  "language_info": {
   "codemirror_mode": {
    "name": "ipython",
    "version": 3
   },
   "file_extension": ".py",
   "mimetype": "text/x-python",
   "name": "python",
   "nbconvert_exporter": "python",
   "pygments_lexer": "ipython3",
   "version": "3.12.8"
  }
 },
 "nbformat": 4,
 "nbformat_minor": 5
}
